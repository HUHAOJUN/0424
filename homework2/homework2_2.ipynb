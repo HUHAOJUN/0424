{
 "cells": [
  {
   "cell_type": "code",
   "execution_count": 4,
   "metadata": {},
   "outputs": [
    {
     "name": "stdout",
     "output_type": "stream",
     "text": [
      "猜數字100\n",
      "沒猜中\n",
      "猜數字d\n",
      "沒猜中\n",
      "猜數字s\n",
      "沒猜中\n",
      "猜數字fsk\n",
      "沒猜中\n",
      "猜數字5d\n",
      "沒猜中\n",
      "猜數字5\n",
      "沒猜中\n",
      "猜數字8\n",
      "成功\n"
     ]
    }
   ],
   "source": [
    "while True:\n",
    "    num = input(\"猜數字\")\n",
    "    if len(num)<=1 and len(num)>0:\n",
    "        if ord(num) >=48 and ord(num) <= 57:\n",
    "            if int(num) == 8:\n",
    "                print(\"成功\")\n",
    "                break\n",
    "    print(\"沒猜中\")"
   ]
  },
  {
   "cell_type": "code",
   "execution_count": null,
   "metadata": {},
   "outputs": [],
   "source": []
  }
 ],
 "metadata": {
  "kernelspec": {
   "display_name": "Python 3",
   "language": "python",
   "name": "python3"
  },
  "language_info": {
   "codemirror_mode": {
    "name": "ipython",
    "version": 3
   },
   "file_extension": ".py",
   "mimetype": "text/x-python",
   "name": "python",
   "nbconvert_exporter": "python",
   "pygments_lexer": "ipython3",
   "version": "3.7.2"
  }
 },
 "nbformat": 4,
 "nbformat_minor": 2
}
