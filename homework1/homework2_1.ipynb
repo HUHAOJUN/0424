{
 "cells": [
  {
   "cell_type": "code",
   "execution_count": 34,
   "metadata": {},
   "outputs": [
    {
     "name": "stdout",
     "output_type": "stream",
     "text": [
      "s\n",
      "未知\n"
     ]
    }
   ],
   "source": [
    "x = input()\n",
    "if len(x)<=3 and len(x)>0:\n",
    "    if ord(x[0]) >= 48 and ord(x[0]) <= 57 and ord(x[1]) >= 48 and ord(x[1]) <= 57 and ord(x[2]) >= 48 and ord(x[2]) <= 57:\n",
    "        if int(x) < 60:\n",
    "            print(\"不及格\")\n",
    "        elif int(x) >= 60 and int(x) < 80:\n",
    "            print(\"及格\")\n",
    "        elif int(x) >= 80:\n",
    "            print(\"優質\")\n",
    "    else:\n",
    "        print(\"未知\")\n",
    "else:\n",
    "        print(\"未知\")"
   ]
  },
  {
   "cell_type": "code",
   "execution_count": null,
   "metadata": {},
   "outputs": [],
   "source": []
  }
 ],
 "metadata": {
  "kernelspec": {
   "display_name": "Python 3",
   "language": "python",
   "name": "python3"
  },
  "language_info": {
   "codemirror_mode": {
    "name": "ipython",
    "version": 3
   },
   "file_extension": ".py",
   "mimetype": "text/x-python",
   "name": "python",
   "nbconvert_exporter": "python",
   "pygments_lexer": "ipython3",
   "version": "3.7.2"
  }
 },
 "nbformat": 4,
 "nbformat_minor": 2
}
